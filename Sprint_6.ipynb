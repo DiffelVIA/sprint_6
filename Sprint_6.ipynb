{
 "cells": [
  {
   "cell_type": "markdown",
   "id": "2019caca",
   "metadata": {},
   "source": [
    "# 1 Carga de librerías"
   ]
  },
  {
   "cell_type": "code",
   "execution_count": 3,
   "id": "9c8eca7d",
   "metadata": {},
   "outputs": [],
   "source": [
    "import pandas as pd\n",
    "import numpy as np\n",
    "import seaborn as sns\n",
    "from matplotlib import pyplot as plt\n",
    "from scipy import stats as stats\n",
    "from scipy.stats import ttest_ind\n",
    "from scipy.stats import levene"
   ]
  },
  {
   "cell_type": "markdown",
   "id": "6c66e973",
   "metadata": {},
   "source": [
    "# 2. Carga de dataset"
   ]
  },
  {
   "cell_type": "code",
   "execution_count": null,
   "id": "a7c2e362",
   "metadata": {},
   "outputs": [],
   "source": [
    "# Uso de read_csv para leer los datos CSV, la \"r\" es para evitar los caracteres de escape\n",
    "df = pd.read_csv(r'D:\\Data analyst\\datasets\\datasets\\games_full.csv')"
   ]
  },
  {
   "cell_type": "code",
   "execution_count": null,
   "id": "4069d589",
   "metadata": {},
   "outputs": [
    {
     "name": "stdout",
     "output_type": "stream",
     "text": [
      "<class 'pandas.core.frame.DataFrame'>\n",
      "RangeIndex: 16450 entries, 0 to 16449\n",
      "Data columns (total 11 columns):\n",
      " #   Column           Non-Null Count  Dtype  \n",
      "---  ------           --------------  -----  \n",
      " 0   Name             16448 non-null  object \n",
      " 1   Platform         16450 non-null  object \n",
      " 2   Year_of_Release  16450 non-null  object \n",
      " 3   Genre            16448 non-null  object \n",
      " 4   NA_players       16450 non-null  float64\n",
      " 5   EU_players       16450 non-null  float64\n",
      " 6   JP_players       16450 non-null  float64\n",
      " 7   Other_players    16450 non-null  float64\n",
      " 8   Critic_Score     7983 non-null   float64\n",
      " 9   User_Score       9840 non-null   object \n",
      " 10  Rating           9769 non-null   object \n",
      "dtypes: float64(5), object(6)\n",
      "memory usage: 1.4+ MB\n"
     ]
    }
   ],
   "source": [
    "#Uso de info para ver datos relevantes de los datos\n",
    "df.info()"
   ]
  },
  {
   "cell_type": "markdown",
   "id": "0c4c4fb3",
   "metadata": {},
   "source": [
    "Comentarios:\n",
    "- Nomenclatura inadecuada de las columnas, se procede a usar minúsculas y snake_case\n",
    "- Solo presentamos 2 tipos de datos, objeto y flotantes, se indagará para hacer la transformación al dato correcto.\n",
    "- Encontramos valores nulos, se indagará para tomar una buena decisión de su tratamiento."
   ]
  },
  {
   "cell_type": "code",
   "execution_count": null,
   "id": "1a82b27e",
   "metadata": {},
   "outputs": [
    {
     "data": {
      "text/html": [
       "<div>\n",
       "<style scoped>\n",
       "    .dataframe tbody tr th:only-of-type {\n",
       "        vertical-align: middle;\n",
       "    }\n",
       "\n",
       "    .dataframe tbody tr th {\n",
       "        vertical-align: top;\n",
       "    }\n",
       "\n",
       "    .dataframe thead th {\n",
       "        text-align: right;\n",
       "    }\n",
       "</style>\n",
       "<table border=\"1\" class=\"dataframe\">\n",
       "  <thead>\n",
       "    <tr style=\"text-align: right;\">\n",
       "      <th></th>\n",
       "      <th>Name</th>\n",
       "      <th>Platform</th>\n",
       "      <th>Year_of_Release</th>\n",
       "      <th>Genre</th>\n",
       "      <th>NA_players</th>\n",
       "      <th>EU_players</th>\n",
       "      <th>JP_players</th>\n",
       "      <th>Other_players</th>\n",
       "      <th>Critic_Score</th>\n",
       "      <th>User_Score</th>\n",
       "      <th>Rating</th>\n",
       "    </tr>\n",
       "  </thead>\n",
       "  <tbody>\n",
       "    <tr>\n",
       "      <th>0</th>\n",
       "      <td>Imagine: Makeup Artist</td>\n",
       "      <td>DS</td>\n",
       "      <td>2020-01-01</td>\n",
       "      <td>Simulation</td>\n",
       "      <td>0.27</td>\n",
       "      <td>0.00</td>\n",
       "      <td>0.00</td>\n",
       "      <td>0.02</td>\n",
       "      <td>NaN</td>\n",
       "      <td>tbd</td>\n",
       "      <td>E</td>\n",
       "    </tr>\n",
       "    <tr>\n",
       "      <th>1</th>\n",
       "      <td>Phantasy Star Online 2 Episode 4: Deluxe Package</td>\n",
       "      <td>PS4</td>\n",
       "      <td>2017-01-01</td>\n",
       "      <td>Role-Playing</td>\n",
       "      <td>0.00</td>\n",
       "      <td>0.00</td>\n",
       "      <td>0.04</td>\n",
       "      <td>0.00</td>\n",
       "      <td>NaN</td>\n",
       "      <td>NaN</td>\n",
       "      <td>NaN</td>\n",
       "    </tr>\n",
       "    <tr>\n",
       "      <th>2</th>\n",
       "      <td>Phantasy Star Online 2 Episode 4: Deluxe Package</td>\n",
       "      <td>PSV</td>\n",
       "      <td>2017-01-01</td>\n",
       "      <td>Role-Playing</td>\n",
       "      <td>0.00</td>\n",
       "      <td>0.00</td>\n",
       "      <td>0.01</td>\n",
       "      <td>0.00</td>\n",
       "      <td>NaN</td>\n",
       "      <td>NaN</td>\n",
       "      <td>NaN</td>\n",
       "    </tr>\n",
       "    <tr>\n",
       "      <th>3</th>\n",
       "      <td>Brothers Conflict: Precious Baby</td>\n",
       "      <td>PSV</td>\n",
       "      <td>2017-01-01</td>\n",
       "      <td>Action</td>\n",
       "      <td>0.00</td>\n",
       "      <td>0.00</td>\n",
       "      <td>0.01</td>\n",
       "      <td>0.00</td>\n",
       "      <td>NaN</td>\n",
       "      <td>NaN</td>\n",
       "      <td>NaN</td>\n",
       "    </tr>\n",
       "    <tr>\n",
       "      <th>4</th>\n",
       "      <td>FIFA 17</td>\n",
       "      <td>PS4</td>\n",
       "      <td>2016-01-01</td>\n",
       "      <td>Sports</td>\n",
       "      <td>0.66</td>\n",
       "      <td>5.75</td>\n",
       "      <td>0.08</td>\n",
       "      <td>1.11</td>\n",
       "      <td>85.0</td>\n",
       "      <td>5</td>\n",
       "      <td>E</td>\n",
       "    </tr>\n",
       "    <tr>\n",
       "      <th>5</th>\n",
       "      <td>Pokemon Sun/Moon</td>\n",
       "      <td>3DS</td>\n",
       "      <td>2016-01-01</td>\n",
       "      <td>Role-Playing</td>\n",
       "      <td>2.98</td>\n",
       "      <td>1.45</td>\n",
       "      <td>2.26</td>\n",
       "      <td>0.45</td>\n",
       "      <td>NaN</td>\n",
       "      <td>NaN</td>\n",
       "      <td>NaN</td>\n",
       "    </tr>\n",
       "    <tr>\n",
       "      <th>6</th>\n",
       "      <td>Uncharted 4: A Thief's End</td>\n",
       "      <td>PS4</td>\n",
       "      <td>2016-01-01</td>\n",
       "      <td>Shooter</td>\n",
       "      <td>1.85</td>\n",
       "      <td>2.50</td>\n",
       "      <td>0.19</td>\n",
       "      <td>0.85</td>\n",
       "      <td>93.0</td>\n",
       "      <td>7.9</td>\n",
       "      <td>T</td>\n",
       "    </tr>\n",
       "    <tr>\n",
       "      <th>7</th>\n",
       "      <td>Call of Duty: Infinite Warfare</td>\n",
       "      <td>PS4</td>\n",
       "      <td>2016-01-01</td>\n",
       "      <td>Shooter</td>\n",
       "      <td>1.61</td>\n",
       "      <td>2.00</td>\n",
       "      <td>0.15</td>\n",
       "      <td>0.71</td>\n",
       "      <td>77.0</td>\n",
       "      <td>3.4</td>\n",
       "      <td>M</td>\n",
       "    </tr>\n",
       "    <tr>\n",
       "      <th>8</th>\n",
       "      <td>Battlefield 1</td>\n",
       "      <td>PS4</td>\n",
       "      <td>2016-01-01</td>\n",
       "      <td>Shooter</td>\n",
       "      <td>1.10</td>\n",
       "      <td>2.15</td>\n",
       "      <td>0.21</td>\n",
       "      <td>0.61</td>\n",
       "      <td>88.0</td>\n",
       "      <td>8.4</td>\n",
       "      <td>M</td>\n",
       "    </tr>\n",
       "    <tr>\n",
       "      <th>9</th>\n",
       "      <td>Tom Clancy's The Division</td>\n",
       "      <td>PS4</td>\n",
       "      <td>2016-01-01</td>\n",
       "      <td>Shooter</td>\n",
       "      <td>1.35</td>\n",
       "      <td>1.70</td>\n",
       "      <td>0.15</td>\n",
       "      <td>0.60</td>\n",
       "      <td>80.0</td>\n",
       "      <td>7</td>\n",
       "      <td>M</td>\n",
       "    </tr>\n",
       "  </tbody>\n",
       "</table>\n",
       "</div>"
      ],
      "text/plain": [
       "                                               Name Platform Year_of_Release  \\\n",
       "0                            Imagine: Makeup Artist       DS      2020-01-01   \n",
       "1  Phantasy Star Online 2 Episode 4: Deluxe Package      PS4      2017-01-01   \n",
       "2  Phantasy Star Online 2 Episode 4: Deluxe Package      PSV      2017-01-01   \n",
       "3                  Brothers Conflict: Precious Baby      PSV      2017-01-01   \n",
       "4                                           FIFA 17      PS4      2016-01-01   \n",
       "5                                  Pokemon Sun/Moon      3DS      2016-01-01   \n",
       "6                        Uncharted 4: A Thief's End      PS4      2016-01-01   \n",
       "7                    Call of Duty: Infinite Warfare      PS4      2016-01-01   \n",
       "8                                     Battlefield 1      PS4      2016-01-01   \n",
       "9                         Tom Clancy's The Division      PS4      2016-01-01   \n",
       "\n",
       "          Genre  NA_players  EU_players  JP_players  Other_players  \\\n",
       "0    Simulation        0.27        0.00        0.00           0.02   \n",
       "1  Role-Playing        0.00        0.00        0.04           0.00   \n",
       "2  Role-Playing        0.00        0.00        0.01           0.00   \n",
       "3        Action        0.00        0.00        0.01           0.00   \n",
       "4        Sports        0.66        5.75        0.08           1.11   \n",
       "5  Role-Playing        2.98        1.45        2.26           0.45   \n",
       "6       Shooter        1.85        2.50        0.19           0.85   \n",
       "7       Shooter        1.61        2.00        0.15           0.71   \n",
       "8       Shooter        1.10        2.15        0.21           0.61   \n",
       "9       Shooter        1.35        1.70        0.15           0.60   \n",
       "\n",
       "   Critic_Score User_Score Rating  \n",
       "0           NaN        tbd      E  \n",
       "1           NaN        NaN    NaN  \n",
       "2           NaN        NaN    NaN  \n",
       "3           NaN        NaN    NaN  \n",
       "4          85.0          5      E  \n",
       "5           NaN        NaN    NaN  \n",
       "6          93.0        7.9      T  \n",
       "7          77.0        3.4      M  \n",
       "8          88.0        8.4      M  \n",
       "9          80.0          7      M  "
      ]
     },
     "execution_count": 9,
     "metadata": {},
     "output_type": "execute_result"
    }
   ],
   "source": [
    "#Uso de head para ver rápidamente los datos\n",
    "df.head(10)"
   ]
  },
  {
   "cell_type": "markdown",
   "id": "afdfd39f",
   "metadata": {},
   "source": [
    "# 3 Preparación de datos"
   ]
  },
  {
   "cell_type": "markdown",
   "id": "b5c4045a",
   "metadata": {},
   "source": [
    "### Modificación de nombres"
   ]
  },
  {
   "cell_type": "code",
   "execution_count": null,
   "id": "7589058d",
   "metadata": {},
   "outputs": [
    {
     "data": {
      "text/plain": [
       "Index(['name', 'platform', 'year_of_release', 'genre', 'na_players',\n",
       "       'eu_players', 'jp_players', 'other_players', 'critic_score',\n",
       "       'user_score', 'rating'],\n",
       "      dtype='object')"
      ]
     },
     "execution_count": 10,
     "metadata": {},
     "output_type": "execute_result"
    }
   ],
   "source": [
    "#Ciclo for que itera sobre cada columna, aplicandole el método lower para volver a minúsculas\n",
    "new_names = []\n",
    "for old_names in df.columns:\n",
    "    new_col_names = old_names.lower()\n",
    "    new_names.append(new_col_names)\n",
    "df.columns = new_names\n",
    "df.columns"
   ]
  },
  {
   "cell_type": "markdown",
   "id": "4e66b4c7",
   "metadata": {},
   "source": [
    "### Evaluación y tratamiento de ausentes"
   ]
  }
 ],
 "metadata": {
  "kernelspec": {
   "display_name": "sprint6 (3.13.2)",
   "language": "python",
   "name": "python3"
  },
  "language_info": {
   "codemirror_mode": {
    "name": "ipython",
    "version": 3
   },
   "file_extension": ".py",
   "mimetype": "text/x-python",
   "name": "python",
   "nbconvert_exporter": "python",
   "pygments_lexer": "ipython3",
   "version": "3.13.2"
  }
 },
 "nbformat": 4,
 "nbformat_minor": 5
}
