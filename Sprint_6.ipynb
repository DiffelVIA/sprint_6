{
 "cells": [
  {
   "cell_type": "markdown",
   "id": "2019caca",
   "metadata": {},
   "source": [
    "# 1 Carga de librerías"
   ]
  },
  {
   "cell_type": "code",
   "execution_count": 202,
   "id": "9c8eca7d",
   "metadata": {},
   "outputs": [],
   "source": [
    "import pandas as pd\n",
    "import numpy as np\n",
    "import seaborn as sns\n",
    "from matplotlib import pyplot as plt\n",
    "from scipy import stats as stats\n",
    "from scipy.stats import ttest_ind\n",
    "from scipy.stats import levene"
   ]
  },
  {
   "cell_type": "markdown",
   "id": "6c66e973",
   "metadata": {},
   "source": [
    "# 2. Carga de dataset"
   ]
  },
  {
   "cell_type": "code",
   "execution_count": 203,
   "id": "a7c2e362",
   "metadata": {},
   "outputs": [],
   "source": [
    "# Uso de read_csv para leer los datos CSV, la \"r\" es para evitar los caracteres de escape\n",
    "df = pd.read_csv(r'D:\\Data analyst\\datasets\\games.csv')"
   ]
  },
  {
   "cell_type": "code",
   "execution_count": 204,
   "id": "4069d589",
   "metadata": {},
   "outputs": [
    {
     "name": "stdout",
     "output_type": "stream",
     "text": [
      "<class 'pandas.core.frame.DataFrame'>\n",
      "RangeIndex: 16715 entries, 0 to 16714\n",
      "Data columns (total 11 columns):\n",
      " #   Column           Non-Null Count  Dtype  \n",
      "---  ------           --------------  -----  \n",
      " 0   Name             16713 non-null  object \n",
      " 1   Platform         16715 non-null  object \n",
      " 2   Year_of_Release  16446 non-null  float64\n",
      " 3   Genre            16713 non-null  object \n",
      " 4   NA_sales         16715 non-null  float64\n",
      " 5   EU_sales         16715 non-null  float64\n",
      " 6   JP_sales         16715 non-null  float64\n",
      " 7   Other_sales      16715 non-null  float64\n",
      " 8   Critic_Score     8137 non-null   float64\n",
      " 9   User_Score       10014 non-null  object \n",
      " 10  Rating           9949 non-null   object \n",
      "dtypes: float64(6), object(5)\n",
      "memory usage: 1.4+ MB\n"
     ]
    }
   ],
   "source": [
    "#Uso de info para ver datos relevantes de los datos\n",
    "df.info()"
   ]
  },
  {
   "cell_type": "markdown",
   "id": "0c4c4fb3",
   "metadata": {},
   "source": [
    "Comentarios:\n",
    "- Nomenclatura inadecuada de las columnas, se procede a usar minúsculas y snake_case\n",
    "- Solo presentamos 2 tipos de datos, objeto y flotantes, se indagará para hacer la transformación al dato correcto.\n",
    "- Encontramos valores nulos, se indagará para tomar una buena decisión de su tratamiento."
   ]
  },
  {
   "cell_type": "code",
   "execution_count": 205,
   "id": "1a82b27e",
   "metadata": {},
   "outputs": [
    {
     "data": {
      "text/html": [
       "<div>\n",
       "<style scoped>\n",
       "    .dataframe tbody tr th:only-of-type {\n",
       "        vertical-align: middle;\n",
       "    }\n",
       "\n",
       "    .dataframe tbody tr th {\n",
       "        vertical-align: top;\n",
       "    }\n",
       "\n",
       "    .dataframe thead th {\n",
       "        text-align: right;\n",
       "    }\n",
       "</style>\n",
       "<table border=\"1\" class=\"dataframe\">\n",
       "  <thead>\n",
       "    <tr style=\"text-align: right;\">\n",
       "      <th></th>\n",
       "      <th>Name</th>\n",
       "      <th>Platform</th>\n",
       "      <th>Year_of_Release</th>\n",
       "      <th>Genre</th>\n",
       "      <th>NA_sales</th>\n",
       "      <th>EU_sales</th>\n",
       "      <th>JP_sales</th>\n",
       "      <th>Other_sales</th>\n",
       "      <th>Critic_Score</th>\n",
       "      <th>User_Score</th>\n",
       "      <th>Rating</th>\n",
       "    </tr>\n",
       "  </thead>\n",
       "  <tbody>\n",
       "    <tr>\n",
       "      <th>0</th>\n",
       "      <td>Wii Sports</td>\n",
       "      <td>Wii</td>\n",
       "      <td>2006.0</td>\n",
       "      <td>Sports</td>\n",
       "      <td>41.36</td>\n",
       "      <td>28.96</td>\n",
       "      <td>3.77</td>\n",
       "      <td>8.45</td>\n",
       "      <td>76.0</td>\n",
       "      <td>8</td>\n",
       "      <td>E</td>\n",
       "    </tr>\n",
       "    <tr>\n",
       "      <th>1</th>\n",
       "      <td>Super Mario Bros.</td>\n",
       "      <td>NES</td>\n",
       "      <td>1985.0</td>\n",
       "      <td>Platform</td>\n",
       "      <td>29.08</td>\n",
       "      <td>3.58</td>\n",
       "      <td>6.81</td>\n",
       "      <td>0.77</td>\n",
       "      <td>NaN</td>\n",
       "      <td>NaN</td>\n",
       "      <td>NaN</td>\n",
       "    </tr>\n",
       "    <tr>\n",
       "      <th>2</th>\n",
       "      <td>Mario Kart Wii</td>\n",
       "      <td>Wii</td>\n",
       "      <td>2008.0</td>\n",
       "      <td>Racing</td>\n",
       "      <td>15.68</td>\n",
       "      <td>12.76</td>\n",
       "      <td>3.79</td>\n",
       "      <td>3.29</td>\n",
       "      <td>82.0</td>\n",
       "      <td>8.3</td>\n",
       "      <td>E</td>\n",
       "    </tr>\n",
       "    <tr>\n",
       "      <th>3</th>\n",
       "      <td>Wii Sports Resort</td>\n",
       "      <td>Wii</td>\n",
       "      <td>2009.0</td>\n",
       "      <td>Sports</td>\n",
       "      <td>15.61</td>\n",
       "      <td>10.93</td>\n",
       "      <td>3.28</td>\n",
       "      <td>2.95</td>\n",
       "      <td>80.0</td>\n",
       "      <td>8</td>\n",
       "      <td>E</td>\n",
       "    </tr>\n",
       "    <tr>\n",
       "      <th>4</th>\n",
       "      <td>Pokemon Red/Pokemon Blue</td>\n",
       "      <td>GB</td>\n",
       "      <td>1996.0</td>\n",
       "      <td>Role-Playing</td>\n",
       "      <td>11.27</td>\n",
       "      <td>8.89</td>\n",
       "      <td>10.22</td>\n",
       "      <td>1.00</td>\n",
       "      <td>NaN</td>\n",
       "      <td>NaN</td>\n",
       "      <td>NaN</td>\n",
       "    </tr>\n",
       "  </tbody>\n",
       "</table>\n",
       "</div>"
      ],
      "text/plain": [
       "                       Name Platform  Year_of_Release         Genre  NA_sales  \\\n",
       "0                Wii Sports      Wii           2006.0        Sports     41.36   \n",
       "1         Super Mario Bros.      NES           1985.0      Platform     29.08   \n",
       "2            Mario Kart Wii      Wii           2008.0        Racing     15.68   \n",
       "3         Wii Sports Resort      Wii           2009.0        Sports     15.61   \n",
       "4  Pokemon Red/Pokemon Blue       GB           1996.0  Role-Playing     11.27   \n",
       "\n",
       "   EU_sales  JP_sales  Other_sales  Critic_Score User_Score Rating  \n",
       "0     28.96      3.77         8.45          76.0          8      E  \n",
       "1      3.58      6.81         0.77           NaN        NaN    NaN  \n",
       "2     12.76      3.79         3.29          82.0        8.3      E  \n",
       "3     10.93      3.28         2.95          80.0          8      E  \n",
       "4      8.89     10.22         1.00           NaN        NaN    NaN  "
      ]
     },
     "execution_count": 205,
     "metadata": {},
     "output_type": "execute_result"
    }
   ],
   "source": [
    "#Uso de head para ver rápidamente los datos\n",
    "df.head(5)"
   ]
  },
  {
   "cell_type": "markdown",
   "id": "afdfd39f",
   "metadata": {},
   "source": [
    "# 3 Preparación de datos"
   ]
  },
  {
   "cell_type": "markdown",
   "id": "b5c4045a",
   "metadata": {},
   "source": [
    "### Modificación de columnas"
   ]
  },
  {
   "cell_type": "code",
   "execution_count": 206,
   "id": "7589058d",
   "metadata": {},
   "outputs": [
    {
     "data": {
      "text/plain": [
       "Index(['name', 'platform', 'date_of_release', 'genre', 'year', 'na_sales',\n",
       "       'eu_sales', 'jp_sales', 'other_sales', 'critic_score', 'user_score',\n",
       "       'rating'],\n",
       "      dtype='object')"
      ]
     },
     "execution_count": 206,
     "metadata": {},
     "output_type": "execute_result"
    }
   ],
   "source": [
    "#Ciclo for que itera sobre cada columna, aplicandole el método lower para volver a minúsculas\n",
    "new_names = []\n",
    "for old_names in df.columns:\n",
    "    new_col_names = old_names.lower()\n",
    "    new_names.append(new_col_names)\n",
    "\n",
    "df.columns = new_names\n",
    "\n",
    "\n",
    "\n",
    "df['year_of_release'] = pd.to_datetime(df['year_of_release']) #cambio de dato de str a datetime\n",
    "\n",
    "df.insert(3,'date_of_release',df['year_of_release'].dt.normalize()) #creación de nueva columna solo con el año\n",
    "\n",
    "df.drop(columns=['year_of_release'],inplace=True)\n",
    "\n",
    "df.insert(4,'year',df['date_of_release'].dt.year) #creación de nueva columna solo con el año\n",
    "\n",
    "df.columns"
   ]
  },
  {
   "cell_type": "markdown",
   "id": "4e66b4c7",
   "metadata": {},
   "source": [
    "### Evaluación y tratamiento de ausentes"
   ]
  },
  {
   "cell_type": "code",
   "execution_count": 207,
   "id": "25c4892b",
   "metadata": {},
   "outputs": [
    {
     "name": "stdout",
     "output_type": "stream",
     "text": [
      "El dataframe tiene \u001b[4m\u001b[1m22587\u001b[0m\u001b[0m valores nulos\n"
     ]
    }
   ],
   "source": [
    "#Suma de valores nulos\n",
    "total_nans = df.isna().sum().sum()\n",
    "print(f'El dataframe tiene \\033[4m\\033[1m{total_nans}\\033[0m\\033[0m valores nulos')"
   ]
  },
  {
   "cell_type": "code",
   "execution_count": 208,
   "id": "0cf0a5d7",
   "metadata": {},
   "outputs": [
    {
     "name": "stdout",
     "output_type": "stream",
     "text": [
      "Columnas con valores nulos ['name', 'date_of_release', 'genre', 'year', 'critic_score', 'user_score', 'rating']\n"
     ]
    }
   ],
   "source": [
    "#Impresión de columnas con valores nulos\n",
    "cols_with_nans = df.isna().any() #any evalua qué elemento cumple la condición de tener nulos con isna\n",
    "list_cols_nans = df.loc[:, cols_with_nans].columns.to_list() \n",
    "'''\n",
    "Selecciona las columnas con nulos --> df.loc[:,cols_with_nans],\n",
    "Recupera solo el nombre de columna  --> .columns,\n",
    "Vuelve a lista para imprimir --> .to_list()\n",
    "'''\n",
    "print(f'Columnas con valores nulos {list_cols_nans}')"
   ]
  },
  {
   "cell_type": "code",
   "execution_count": 209,
   "id": "c2945281",
   "metadata": {},
   "outputs": [
    {
     "data": {
      "text/plain": [
       "name                  0\n",
       "platform              0\n",
       "date_of_release     269\n",
       "genre                 0\n",
       "year                  0\n",
       "na_sales              0\n",
       "eu_sales              0\n",
       "jp_sales              0\n",
       "other_sales           0\n",
       "critic_score       8576\n",
       "user_score         6699\n",
       "rating             6764\n",
       "dtype: int64"
      ]
     },
     "execution_count": 209,
     "metadata": {},
     "output_type": "execute_result"
    }
   ],
   "source": [
    "#Eliminación de filas con nombre y género nulo para futuro análisis\n",
    "df.dropna(subset=['name','genre'],inplace=True)\n",
    "df.fillna({'year':0.0}, inplace=True)\n",
    "df.isna().sum()"
   ]
  },
  {
   "cell_type": "markdown",
   "id": "b465862b",
   "metadata": {},
   "source": [
    "#### Siglo de lanzamiento"
   ]
  },
  {
   "cell_type": "code",
   "execution_count": 210,
   "id": "b1623276",
   "metadata": {},
   "outputs": [
    {
     "name": "stdout",
     "output_type": "stream",
     "text": [
      "El dataframe de los juegos lanzados antes del 2000 tiene \u001b[4m\u001b[1m22308\u001b[0m\u001b[0m valores nulos, \n",
      "esto representa el 98.76% del total de nulos.\n"
     ]
    }
   ],
   "source": [
    "#Filtro por año de lanzamiento, condición: Juegos lanzados antes del 2000 o siglo 21\n",
    "century_20th_games = df[df['year'] < 2000.0].reset_index()\n",
    "nans_20th = century_20th_games.isna().sum()\n",
    "total_20th_nans = nans_20th.sum()\n",
    "print(f'El dataframe de los juegos lanzados antes del 2000 tiene \\033[4m\\033[1m{total_20th_nans}\\033[0m\\033[0m valores nulos, \\nesto representa el {(total_20th_nans*100)/total_nans:.2f}% del total de nulos.')"
   ]
  },
  {
   "cell_type": "code",
   "execution_count": 211,
   "id": "3a795c05",
   "metadata": {},
   "outputs": [
    {
     "name": "stdout",
     "output_type": "stream",
     "text": [
      "El dataframe de los juegos lanzados en el siglo 21 tiene \u001b[4m\u001b[1m0\u001b[0m\u001b[0m valores nulos, \n",
      "esto representa el 0.00% del total de nulos.\n"
     ]
    }
   ],
   "source": [
    "#Filtro para encontrar los nulos de juegos lanzados en el siglo 21\n",
    "century_21th_games = df[df['year'] >= 2000].reset_index()\n",
    "total_21th_nans  = century_21th_games.isna().sum().sum()\n",
    "print(f'El dataframe de los juegos lanzados en el siglo 21 tiene \\033[4m\\033[1m{total_21th_nans}\\033[0m\\033[0m valores nulos, \\nesto representa el {(total_21th_nans*100)/total_nans:.2f}% del total de nulos.')"
   ]
  },
  {
   "cell_type": "markdown",
   "id": "bdd59af8",
   "metadata": {},
   "source": [
    "**Comentario:**\n",
    "\n",
    "Analizando los nulos obtenidos, observamos que son juegos del siglo 20, lanzados antes del 2000. Vemos que los nulos relevantes son respecto a la crítica, crítica de usuarios y la clasificación.\n",
    "\n",
    "**Decisión de nulos:**\n",
    "\n",
    "Los nulos de la columna de nombre se ha optado por sustituir por \"unknown\" y los de año de lanzamiento  she han dejado para mantener el tipo de dato.\n",
    "\n",
    "Dependiendo el análisis, se podrá tomar en cuenta los datos de crítica profesional, crítica de usuario y clasificación. Lista de casos donde se usarán:\n",
    "\n",
    "- Cálculos de jugadores en las diferentes regiones.\n",
    "- Análisis por género, año de lanzamiento y plataforma.\n",
    "\n",
    "Casos en donde no se podrá considerar estos datos:\n",
    "\n",
    "- Cálculos por rating, puntuación y por puntuación de usuarios.\n",
    "\n",
    "De momento se ha decidido **<u>no eliminar</u>** estos nulos."
   ]
  },
  {
   "cell_type": "code",
   "execution_count": 212,
   "id": "12915854",
   "metadata": {},
   "outputs": [],
   "source": [
    "#Creación de listas con valores únicos\n",
    "platforms = df['platform'].unique().tolist()\n",
    "years = df['year'].unique().tolist()\n",
    "genres = df['genre'].unique().tolist()"
   ]
  },
  {
   "cell_type": "markdown",
   "id": "8c7ab73b",
   "metadata": {},
   "source": [
    "##### Plataforma"
   ]
  },
  {
   "cell_type": "code",
   "execution_count": 213,
   "id": "7a8e1f6d",
   "metadata": {},
   "outputs": [
    {
     "data": {
      "text/html": [
       "<div>\n",
       "<style scoped>\n",
       "    .dataframe tbody tr th:only-of-type {\n",
       "        vertical-align: middle;\n",
       "    }\n",
       "\n",
       "    .dataframe tbody tr th {\n",
       "        vertical-align: top;\n",
       "    }\n",
       "\n",
       "    .dataframe thead th {\n",
       "        text-align: right;\n",
       "    }\n",
       "</style>\n",
       "<table border=\"1\" class=\"dataframe\">\n",
       "  <thead>\n",
       "    <tr style=\"text-align: right;\">\n",
       "      <th></th>\n",
       "      <th>platform</th>\n",
       "      <th>nans</th>\n",
       "    </tr>\n",
       "  </thead>\n",
       "  <tbody>\n",
       "    <tr>\n",
       "      <th>0</th>\n",
       "      <td>Wii</td>\n",
       "      <td>1407</td>\n",
       "    </tr>\n",
       "    <tr>\n",
       "      <th>1</th>\n",
       "      <td>NES</td>\n",
       "      <td>294</td>\n",
       "    </tr>\n",
       "    <tr>\n",
       "      <th>2</th>\n",
       "      <td>GB</td>\n",
       "      <td>295</td>\n",
       "    </tr>\n",
       "    <tr>\n",
       "      <th>3</th>\n",
       "      <td>DS</td>\n",
       "      <td>3221</td>\n",
       "    </tr>\n",
       "    <tr>\n",
       "      <th>4</th>\n",
       "      <td>X360</td>\n",
       "      <td>798</td>\n",
       "    </tr>\n",
       "  </tbody>\n",
       "</table>\n",
       "</div>"
      ],
      "text/plain": [
       "  platform  nans\n",
       "0      Wii  1407\n",
       "1      NES   294\n",
       "2       GB   295\n",
       "3       DS  3221\n",
       "4     X360   798"
      ]
     },
     "execution_count": 213,
     "metadata": {},
     "output_type": "execute_result"
    }
   ],
   "source": [
    "#Ciclo for que indaga los nulos por plataforma\n",
    "platforms_nulls = []\n",
    "for platform in platforms:\n",
    "    platform_filter = df[df['platform'].isin([platform])]\n",
    "    platforms_nans = platform_filter.isna().sum().sum()\n",
    "    platforms_nulls.append(platforms_nans)\n",
    "\n",
    "platform_data = list(zip(platforms, platforms_nulls))\n",
    "df_platform = pd.DataFrame(platform_data,columns=['platform','nans'])\n",
    "df_platform.head()"
   ]
  },
  {
   "cell_type": "markdown",
   "id": "121a25a7",
   "metadata": {},
   "source": [
    "##### Año"
   ]
  },
  {
   "cell_type": "code",
   "execution_count": 214,
   "id": "eba90dfa",
   "metadata": {},
   "outputs": [
    {
     "data": {
      "image/png": "[encoded data removed]",
      "text/plain": [
       "<Figure size 640x480 with 1 Axes>"
      ]
     },
     "metadata": {},
     "output_type": "display_data"
    }
   ],
   "source": [
    "#Ciclo for que indaga los nulos por año\n",
    "year_nulls = []\n",
    "for year in years:\n",
    "    year_filter = df[df['year'].isin([year])]\n",
    "    year_nans = year_filter.isna().sum().sum()\n",
    "    year_nulls.append(year_nans)\n",
    "    \n",
    "year_data = list(zip(years, year_nulls))\n",
    "df_year = pd.DataFrame(year_data,columns=['year','nans'])\n",
    "\n",
    "df_year.plot.bar(x='year', y='nans', legend=False)\n",
    "plt.xlabel('Año de lanzamiento')\n",
    "plt.ylabel('Nulos')\n",
    "plt.title('Nulos por año de lanzamiento')\n",
    "plt.text(0.5,10000,\"¡0.0 corresponde a juegos con \\nfalta de año de lanzamiento!\")\n",
    "plt.show()"
   ]
  },
  {
   "cell_type": "markdown",
   "id": "a2856e48",
   "metadata": {},
   "source": [
    "##### Género"
   ]
  },
  {
   "cell_type": "code",
   "execution_count": 215,
   "id": "d47b27b5",
   "metadata": {},
   "outputs": [
    {
     "data": {
      "image/png": "[encoded data removed]",
      "text/plain": [
       "<Figure size 640x480 with 1 Axes>"
      ]
     },
     "metadata": {},
     "output_type": "display_data"
    }
   ],
   "source": [
    "#Ciclo for que indaga los nulos por genero\n",
    "genre_nulls = []\n",
    "for genre in genres:\n",
    "    genre_filter = df[df['genre'].isin([genre])]\n",
    "    genre_nans = genre_filter.isna().sum().sum()\n",
    "    genre_nulls.append(genre_nans)\n",
    "    \n",
    "genre_data = list(zip(genres, genre_nulls))\n",
    "df_genre = pd.DataFrame(genre_data,columns=['genre','nans'])\n",
    "\n",
    "plt.bar(df_genre['genre'],df_genre['nans'])\n",
    "plt.title('Nulos en función al género')\n",
    "plt.xticks(rotation=45)\n",
    "plt.xlabel('Géneros')\n",
    "plt.ylabel('Nulos')\n",
    "plt.show()"
   ]
  },
  {
   "cell_type": "markdown",
   "id": "a58c58c5",
   "metadata": {},
   "source": [
    "**Decisión sobre nulos**\n",
    "\n",
    "Hemos descubierto que no depende de la plataforma, género. Los nulos dependen del año de lanzamiento y/o alguna otra variable.\n",
    "\n",
    "Vemos que el año 1970 tiene 21 mil nulos.\n",
    "\n",
    "De momento, se ha decidido **<u>no eliminar</u>** estos nulos."
   ]
  },
  {
   "cell_type": "markdown",
   "id": "af700f31",
   "metadata": {},
   "source": [
    "#### Ventas por Región"
   ]
  },
  {
   "cell_type": "code",
   "execution_count": 216,
   "id": "9db406df",
   "metadata": {},
   "outputs": [
    {
     "data": {
      "text/plain": [
       "np.int64(137)"
      ]
     },
     "execution_count": 216,
     "metadata": {},
     "output_type": "execute_result"
    }
   ],
   "source": [
    "eu_sales = df[(df['eu_sales']==0.0) & (df['na_sales']>0.0) & (df['jp_sales']>0.0) & (df['other_sales']>0.0)].reset_index()\n",
    "total_eu_nans = eu_sales.isna().sum().sum()\n",
    "total_eu_nans"
   ]
  },
  {
   "cell_type": "code",
   "execution_count": 217,
   "id": "9d45c4a8",
   "metadata": {},
   "outputs": [
    {
     "data": {
      "text/plain": [
       "np.int64(68)"
      ]
     },
     "execution_count": 217,
     "metadata": {},
     "output_type": "execute_result"
    }
   ],
   "source": [
    "na_sales = df[(df['na_sales']==0.0) & (df['eu_sales']>0.0) & (df['jp_sales']>0.0) & (df['other_sales']>0.0)].reset_index()\n",
    "total_na_nans = na_sales.isna().sum().sum()\n",
    "total_na_nans"
   ]
  },
  {
   "cell_type": "code",
   "execution_count": 218,
   "id": "cd77f952",
   "metadata": {},
   "outputs": [
    {
     "data": {
      "text/plain": [
       "np.int64(4597)"
      ]
     },
     "execution_count": 218,
     "metadata": {},
     "output_type": "execute_result"
    }
   ],
   "source": [
    "jp_sales = df[(df['jp_sales']==0.0) & (df['eu_sales']>0.0) & (df['na_sales']>0.0) & (df['other_sales']>0.0)].reset_index()\n",
    "total_jp_nans = jp_sales.isna().sum().sum()\n",
    "total_jp_nans"
   ]
  },
  {
   "cell_type": "code",
   "execution_count": 219,
   "id": "03faf9a3",
   "metadata": {},
   "outputs": [
    {
     "data": {
      "text/plain": [
       "np.int64(79)"
      ]
     },
     "execution_count": 219,
     "metadata": {},
     "output_type": "execute_result"
    }
   ],
   "source": [
    "other_sales = df[(df['other_sales']==0.0) & (df['eu_sales']>0.0) & (df['jp_sales']>0.0) & (df['na_sales']>0.0)].reset_index()\n",
    "total_other_nans = other_sales.isna().sum().sum()\n",
    "total_other_nans"
   ]
  },
  {
   "cell_type": "markdown",
   "id": "7502815e",
   "metadata": {},
   "source": [
    "**Comentario**\n",
    "\n",
    "Hemos descubierto que los juegos que no tuvieron ventas en japón tienen una gran cantidad de nulos, aun así, el año de lanzamiento parece ser un factor más determinante en la cantidad de nulos."
   ]
  },
  {
   "cell_type": "code",
   "execution_count": 220,
   "id": "db624ca1",
   "metadata": {},
   "outputs": [
    {
     "data": {
      "text/plain": [
       "np.int64(20421)"
      ]
     },
     "execution_count": 220,
     "metadata": {},
     "output_type": "execute_result"
    }
   ],
   "source": [
    "all_sales = df[(df['other_sales']==0.0) | (df['eu_sales']==0.0) | (df['jp_sales']==0.0) | (df['na_sales']==0.0)].reset_index()\n",
    "total_all_nans = all_sales.isna().sum().sum()\n",
    "total_all_nans"
   ]
  },
  {
   "cell_type": "markdown",
   "id": "75ed82e1",
   "metadata": {},
   "source": [
    "**Comentario**\n",
    "\n",
    "Al parecer, los valores nulos dependen de las ventas y el año de lanzamiento, éstos pudieron ser por falta de ventas en una o más regiones antesl del 2000.\n",
    "\n",
    "Aquí podríamos deducir que antes del 2000 no había una cultura de jugar videojuegos, por lo que no había ventas."
   ]
  },
  {
   "cell_type": "markdown",
   "id": "49ac65ac",
   "metadata": {},
   "source": [
    "### Cálculo de ventas"
   ]
  },
  {
   "cell_type": "code",
   "execution_count": 221,
   "id": "fc8f84a3",
   "metadata": {},
   "outputs": [
    {
     "data": {
      "text/html": [
       "<div>\n",
       "<style scoped>\n",
       "    .dataframe tbody tr th:only-of-type {\n",
       "        vertical-align: middle;\n",
       "    }\n",
       "\n",
       "    .dataframe tbody tr th {\n",
       "        vertical-align: top;\n",
       "    }\n",
       "\n",
       "    .dataframe thead th {\n",
       "        text-align: right;\n",
       "    }\n",
       "</style>\n",
       "<table border=\"1\" class=\"dataframe\">\n",
       "  <thead>\n",
       "    <tr style=\"text-align: right;\">\n",
       "      <th></th>\n",
       "      <th>name</th>\n",
       "      <th>platform</th>\n",
       "      <th>date_of_release</th>\n",
       "      <th>genre</th>\n",
       "      <th>year</th>\n",
       "      <th>total_sales</th>\n",
       "      <th>na_sales</th>\n",
       "      <th>eu_sales</th>\n",
       "      <th>jp_sales</th>\n",
       "      <th>other_sales</th>\n",
       "      <th>critic_score</th>\n",
       "      <th>user_score</th>\n",
       "      <th>rating</th>\n",
       "    </tr>\n",
       "  </thead>\n",
       "  <tbody>\n",
       "    <tr>\n",
       "      <th>0</th>\n",
       "      <td>Wii Sports</td>\n",
       "      <td>Wii</td>\n",
       "      <td>1970-01-01</td>\n",
       "      <td>Sports</td>\n",
       "      <td>1970.0</td>\n",
       "      <td>82.54</td>\n",
       "      <td>41.36</td>\n",
       "      <td>28.96</td>\n",
       "      <td>3.77</td>\n",
       "      <td>8.45</td>\n",
       "      <td>76.0</td>\n",
       "      <td>8</td>\n",
       "      <td>E</td>\n",
       "    </tr>\n",
       "    <tr>\n",
       "      <th>1</th>\n",
       "      <td>Super Mario Bros.</td>\n",
       "      <td>NES</td>\n",
       "      <td>1970-01-01</td>\n",
       "      <td>Platform</td>\n",
       "      <td>1970.0</td>\n",
       "      <td>40.24</td>\n",
       "      <td>29.08</td>\n",
       "      <td>3.58</td>\n",
       "      <td>6.81</td>\n",
       "      <td>0.77</td>\n",
       "      <td>NaN</td>\n",
       "      <td>NaN</td>\n",
       "      <td>NaN</td>\n",
       "    </tr>\n",
       "    <tr>\n",
       "      <th>2</th>\n",
       "      <td>Mario Kart Wii</td>\n",
       "      <td>Wii</td>\n",
       "      <td>1970-01-01</td>\n",
       "      <td>Racing</td>\n",
       "      <td>1970.0</td>\n",
       "      <td>35.52</td>\n",
       "      <td>15.68</td>\n",
       "      <td>12.76</td>\n",
       "      <td>3.79</td>\n",
       "      <td>3.29</td>\n",
       "      <td>82.0</td>\n",
       "      <td>8.3</td>\n",
       "      <td>E</td>\n",
       "    </tr>\n",
       "    <tr>\n",
       "      <th>3</th>\n",
       "      <td>Wii Sports Resort</td>\n",
       "      <td>Wii</td>\n",
       "      <td>1970-01-01</td>\n",
       "      <td>Sports</td>\n",
       "      <td>1970.0</td>\n",
       "      <td>32.77</td>\n",
       "      <td>15.61</td>\n",
       "      <td>10.93</td>\n",
       "      <td>3.28</td>\n",
       "      <td>2.95</td>\n",
       "      <td>80.0</td>\n",
       "      <td>8</td>\n",
       "      <td>E</td>\n",
       "    </tr>\n",
       "    <tr>\n",
       "      <th>4</th>\n",
       "      <td>Pokemon Red/Pokemon Blue</td>\n",
       "      <td>GB</td>\n",
       "      <td>1970-01-01</td>\n",
       "      <td>Role-Playing</td>\n",
       "      <td>1970.0</td>\n",
       "      <td>31.38</td>\n",
       "      <td>11.27</td>\n",
       "      <td>8.89</td>\n",
       "      <td>10.22</td>\n",
       "      <td>1.00</td>\n",
       "      <td>NaN</td>\n",
       "      <td>NaN</td>\n",
       "      <td>NaN</td>\n",
       "    </tr>\n",
       "  </tbody>\n",
       "</table>\n",
       "</div>"
      ],
      "text/plain": [
       "                       name platform date_of_release         genre    year  \\\n",
       "0                Wii Sports      Wii      1970-01-01        Sports  1970.0   \n",
       "1         Super Mario Bros.      NES      1970-01-01      Platform  1970.0   \n",
       "2            Mario Kart Wii      Wii      1970-01-01        Racing  1970.0   \n",
       "3         Wii Sports Resort      Wii      1970-01-01        Sports  1970.0   \n",
       "4  Pokemon Red/Pokemon Blue       GB      1970-01-01  Role-Playing  1970.0   \n",
       "\n",
       "   total_sales  na_sales  eu_sales  jp_sales  other_sales  critic_score  \\\n",
       "0        82.54     41.36     28.96      3.77         8.45          76.0   \n",
       "1        40.24     29.08      3.58      6.81         0.77           NaN   \n",
       "2        35.52     15.68     12.76      3.79         3.29          82.0   \n",
       "3        32.77     15.61     10.93      3.28         2.95          80.0   \n",
       "4        31.38     11.27      8.89     10.22         1.00           NaN   \n",
       "\n",
       "  user_score rating  \n",
       "0          8      E  \n",
       "1        NaN    NaN  \n",
       "2        8.3      E  \n",
       "3          8      E  \n",
       "4        NaN    NaN  "
      ]
     },
     "execution_count": 221,
     "metadata": {},
     "output_type": "execute_result"
    }
   ],
   "source": [
    "df.insert(5,'total_sales',df['na_sales'] + df['eu_sales'] + df['jp_sales'] + df['other_sales'])\n",
    "df.head()"
   ]
  }
 ],
 "metadata": {
  "kernelspec": {
   "display_name": "sprint6 (3.13.2)",
   "language": "python",
   "name": "python3"
  },
  "language_info": {
   "codemirror_mode": {
    "name": "ipython",
    "version": 3
   },
   "file_extension": ".py",
   "mimetype": "text/x-python",
   "name": "python",
   "nbconvert_exporter": "python",
   "pygments_lexer": "ipython3",
   "version": "3.13.2"
  }
 },
 "nbformat": 4,
 "nbformat_minor": 5
}
